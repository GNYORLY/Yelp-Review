{
 "cells": [
  {
   "cell_type": "code",
   "execution_count": 31,
   "metadata": {
    "colab": {},
    "colab_type": "code",
    "id": "LyjRG2P9jzUF"
   },
   "outputs": [],
   "source": [
    "import pandas as pd\n",
    "import numpy as np\n",
    "from pprint import pprint\n",
    "import sys\n",
    "import math"
   ]
  },
  {
   "cell_type": "code",
   "execution_count": 32,
   "metadata": {
    "colab": {},
    "colab_type": "code",
    "id": "CTpp1PcYjzUL"
   },
   "outputs": [],
   "source": [
    "#==== BUSINESS DATAFRAME ===="
   ]
  },
  {
   "cell_type": "code",
   "execution_count": 33,
   "metadata": {
    "colab": {},
    "colab_type": "code",
    "id": "UzLUUf_FjzUO"
   },
   "outputs": [],
   "source": [
    "N_COMPONENTS_BIZ = 4\n",
    "N_COMPONENTS_USERS = 4"
   ]
  },
  {
   "cell_type": "code",
   "execution_count": 34,
   "metadata": {
    "colab": {},
    "colab_type": "code",
    "id": "oTnmR27JjzUR"
   },
   "outputs": [],
   "source": [
    "# Reads the data from CSV files, each attribute column can be obtained via its name, e.g., y = data['y']\n",
    "def getDataframe(filePath):\n",
    "    data = pd.read_csv(filePath)\n",
    "    return data"
   ]
  },
  {
   "cell_type": "code",
   "execution_count": 35,
   "metadata": {
    "colab": {},
    "colab_type": "code",
    "id": "LkZAm9NajzUU"
   },
   "outputs": [],
   "source": [
    "init_biz_df = getDataframe('business3.csv')"
   ]
  },
  {
   "cell_type": "code",
   "execution_count": 36,
   "metadata": {
    "colab": {},
    "colab_type": "code",
    "id": "DrvUw9PsjzUX",
    "outputId": "939eba76-7199-4f1b-c053-113bbc98746f"
   },
   "outputs": [
    {
     "data": {
      "text/plain": [
       "Index([u'address', u'attributes', u'attributes_AcceptsInsurance',\n",
       "       u'attributes_AgesAllowed', u'attributes_Alcohol',\n",
       "       u'attributes_Ambience', u'attributes_BYOB', u'attributes_BYOBCorkage',\n",
       "       u'attributes_BestNights', u'attributes_BikeParking',\n",
       "       u'attributes_BusinessAcceptsBitcoin',\n",
       "       u'attributes_BusinessAcceptsCreditCards', u'attributes_BusinessParking',\n",
       "       u'attributes_ByAppointmentOnly', u'attributes_Caters',\n",
       "       u'attributes_CoatCheck', u'attributes_Corkage',\n",
       "       u'attributes_DietaryRestrictions', u'attributes_DogsAllowed',\n",
       "       u'attributes_DriveThru', u'attributes_GoodForDancing',\n",
       "       u'attributes_GoodForKids', u'attributes_GoodForMeal',\n",
       "       u'attributes_HairSpecializesIn', u'attributes_HappyHour',\n",
       "       u'attributes_HasTV', u'attributes_Music', u'attributes_NoiseLevel',\n",
       "       u'attributes_Open24Hours', u'attributes_OutdoorSeating',\n",
       "       u'attributes_RestaurantsAttire',\n",
       "       u'attributes_RestaurantsCounterService',\n",
       "       u'attributes_RestaurantsDelivery',\n",
       "       u'attributes_RestaurantsGoodForGroups',\n",
       "       u'attributes_RestaurantsPriceRange2',\n",
       "       u'attributes_RestaurantsReservations',\n",
       "       u'attributes_RestaurantsTableService', u'attributes_RestaurantsTakeOut',\n",
       "       u'attributes_Smoking', u'attributes_WheelchairAccessible',\n",
       "       u'attributes_WiFi', u'city', u'hours', u'hours_Friday', u'hours_Monday',\n",
       "       u'hours_Saturday', u'hours_Sunday', u'hours_Thursday', u'hours_Tuesday',\n",
       "       u'hours_Wednesday', u'is_open', u'latitude', u'longitude', u'name',\n",
       "       u'neighborhood', u'postal_code', u'review_count', u'stars', u'state'],\n",
       "      dtype='object')"
      ]
     },
     "execution_count": 36,
     "metadata": {},
     "output_type": "execute_result"
    }
   ],
   "source": [
    "biz_df.columns"
   ]
  },
  {
   "cell_type": "code",
   "execution_count": 37,
   "metadata": {
    "colab": {},
    "colab_type": "code",
    "id": "I-XzuwI3jzUd"
   },
   "outputs": [],
   "source": [
    "biz_df = init_biz_df.drop(['business_id','categories'], axis=1)"
   ]
  },
  {
   "cell_type": "code",
   "execution_count": 38,
   "metadata": {
    "colab": {},
    "colab_type": "code",
    "id": "IobCaxP7jzUg",
    "outputId": "c6d7d0b2-7ecb-4c7a-d5d6-54105daa25cf"
   },
   "outputs": [
    {
     "ename": "TypeError",
     "evalue": "ufunc 'isfinite' not supported for the input types, and the inputs could not be safely coerced to any supported types according to the casting rule ''safe''",
     "output_type": "error",
     "traceback": [
      "\u001b[0;31m---------------------------------------------------------------------------\u001b[0m",
      "\u001b[0;31mTypeError\u001b[0m                                 Traceback (most recent call last)",
      "\u001b[0;32m<ipython-input-38-17d99b5a8388>\u001b[0m in \u001b[0;36m<module>\u001b[0;34m()\u001b[0m\n\u001b[0;32m----> 1\u001b[0;31m \u001b[0mnp\u001b[0m\u001b[0;34m.\u001b[0m\u001b[0misfinite\u001b[0m\u001b[0;34m(\u001b[0m\u001b[0mbiz_df\u001b[0m\u001b[0;34m)\u001b[0m\u001b[0;34m.\u001b[0m\u001b[0mall\u001b[0m\u001b[0;34m(\u001b[0m\u001b[0;34m)\u001b[0m\u001b[0;34m\u001b[0m\u001b[0m\n\u001b[0m",
      "\u001b[0;31mTypeError\u001b[0m: ufunc 'isfinite' not supported for the input types, and the inputs could not be safely coerced to any supported types according to the casting rule ''safe''"
     ]
    }
   ],
   "source": [
    "np.isfinite(biz_df).all()\n"
   ]
  },
  {
   "cell_type": "code",
   "execution_count": 39,
   "metadata": {
    "colab": {},
    "colab_type": "code",
    "id": "i7yH3LpbjzUn"
   },
   "outputs": [],
   "source": [
    "from sklearn.decomposition import PCA"
   ]
  },
  {
   "cell_type": "code",
   "execution_count": 40,
   "metadata": {
    "colab": {},
    "colab_type": "code",
    "id": "v8TTWCHjjzUr"
   },
   "outputs": [],
   "source": [
    "pca = PCA(n_components=N_COMPONENTS_BIZ)"
   ]
  },
  {
   "cell_type": "code",
   "execution_count": 41,
   "metadata": {
    "colab": {},
    "colab_type": "code",
    "id": "TpS77aKujzUt",
    "outputId": "69d05abf-c024-4dbb-c51d-6e086c12fd15"
   },
   "outputs": [
    {
     "ename": "ValueError",
     "evalue": "could not convert string to float: {'dessert': False, 'latenight': False, 'lunch': False, 'dinner': True, 'breakfast': False, 'brunch': False}",
     "output_type": "error",
     "traceback": [
      "\u001b[0;31m---------------------------------------------------------------------------\u001b[0m",
      "\u001b[0;31mValueError\u001b[0m                                Traceback (most recent call last)",
      "\u001b[0;32m<ipython-input-41-5342aa1e6a49>\u001b[0m in \u001b[0;36m<module>\u001b[0;34m()\u001b[0m\n\u001b[0;32m----> 1\u001b[0;31m \u001b[0mpca\u001b[0m\u001b[0;34m.\u001b[0m\u001b[0mfit\u001b[0m\u001b[0;34m(\u001b[0m\u001b[0mbiz_df\u001b[0m\u001b[0;34m)\u001b[0m\u001b[0;34m\u001b[0m\u001b[0m\n\u001b[0m",
      "\u001b[0;32m/Users/Jeannie/anaconda2/lib/python2.7/site-packages/sklearn/decomposition/pca.pyc\u001b[0m in \u001b[0;36mfit\u001b[0;34m(self, X, y)\u001b[0m\n\u001b[1;32m    338\u001b[0m             \u001b[0mReturns\u001b[0m \u001b[0mthe\u001b[0m \u001b[0minstance\u001b[0m \u001b[0mitself\u001b[0m\u001b[0;34m.\u001b[0m\u001b[0;34m\u001b[0m\u001b[0m\n\u001b[1;32m    339\u001b[0m         \"\"\"\n\u001b[0;32m--> 340\u001b[0;31m         \u001b[0mself\u001b[0m\u001b[0;34m.\u001b[0m\u001b[0m_fit\u001b[0m\u001b[0;34m(\u001b[0m\u001b[0mX\u001b[0m\u001b[0;34m)\u001b[0m\u001b[0;34m\u001b[0m\u001b[0m\n\u001b[0m\u001b[1;32m    341\u001b[0m         \u001b[0;32mreturn\u001b[0m \u001b[0mself\u001b[0m\u001b[0;34m\u001b[0m\u001b[0m\n\u001b[1;32m    342\u001b[0m \u001b[0;34m\u001b[0m\u001b[0m\n",
      "\u001b[0;32m/Users/Jeannie/anaconda2/lib/python2.7/site-packages/sklearn/decomposition/pca.pyc\u001b[0m in \u001b[0;36m_fit\u001b[0;34m(self, X)\u001b[0m\n\u001b[1;32m    379\u001b[0m \u001b[0;34m\u001b[0m\u001b[0m\n\u001b[1;32m    380\u001b[0m         X = check_array(X, dtype=[np.float64, np.float32], ensure_2d=True,\n\u001b[0;32m--> 381\u001b[0;31m                         copy=self.copy)\n\u001b[0m\u001b[1;32m    382\u001b[0m \u001b[0;34m\u001b[0m\u001b[0m\n\u001b[1;32m    383\u001b[0m         \u001b[0;31m# Handle n_components==None\u001b[0m\u001b[0;34m\u001b[0m\u001b[0;34m\u001b[0m\u001b[0m\n",
      "\u001b[0;32m/Users/Jeannie/anaconda2/lib/python2.7/site-packages/sklearn/utils/validation.pyc\u001b[0m in \u001b[0;36mcheck_array\u001b[0;34m(array, accept_sparse, accept_large_sparse, dtype, order, copy, force_all_finite, ensure_2d, allow_nd, ensure_min_samples, ensure_min_features, warn_on_dtype, estimator)\u001b[0m\n\u001b[1;32m    525\u001b[0m             \u001b[0;32mtry\u001b[0m\u001b[0;34m:\u001b[0m\u001b[0;34m\u001b[0m\u001b[0m\n\u001b[1;32m    526\u001b[0m                 \u001b[0mwarnings\u001b[0m\u001b[0;34m.\u001b[0m\u001b[0msimplefilter\u001b[0m\u001b[0;34m(\u001b[0m\u001b[0;34m'error'\u001b[0m\u001b[0;34m,\u001b[0m \u001b[0mComplexWarning\u001b[0m\u001b[0;34m)\u001b[0m\u001b[0;34m\u001b[0m\u001b[0m\n\u001b[0;32m--> 527\u001b[0;31m                 \u001b[0marray\u001b[0m \u001b[0;34m=\u001b[0m \u001b[0mnp\u001b[0m\u001b[0;34m.\u001b[0m\u001b[0masarray\u001b[0m\u001b[0;34m(\u001b[0m\u001b[0marray\u001b[0m\u001b[0;34m,\u001b[0m \u001b[0mdtype\u001b[0m\u001b[0;34m=\u001b[0m\u001b[0mdtype\u001b[0m\u001b[0;34m,\u001b[0m \u001b[0morder\u001b[0m\u001b[0;34m=\u001b[0m\u001b[0morder\u001b[0m\u001b[0;34m)\u001b[0m\u001b[0;34m\u001b[0m\u001b[0m\n\u001b[0m\u001b[1;32m    528\u001b[0m             \u001b[0;32mexcept\u001b[0m \u001b[0mComplexWarning\u001b[0m\u001b[0;34m:\u001b[0m\u001b[0;34m\u001b[0m\u001b[0m\n\u001b[1;32m    529\u001b[0m                 raise ValueError(\"Complex data not supported\\n\"\n",
      "\u001b[0;32m/Users/Jeannie/anaconda2/lib/python2.7/site-packages/numpy/core/numeric.pyc\u001b[0m in \u001b[0;36masarray\u001b[0;34m(a, dtype, order)\u001b[0m\n\u001b[1;32m    499\u001b[0m \u001b[0;34m\u001b[0m\u001b[0m\n\u001b[1;32m    500\u001b[0m     \"\"\"\n\u001b[0;32m--> 501\u001b[0;31m     \u001b[0;32mreturn\u001b[0m \u001b[0marray\u001b[0m\u001b[0;34m(\u001b[0m\u001b[0ma\u001b[0m\u001b[0;34m,\u001b[0m \u001b[0mdtype\u001b[0m\u001b[0;34m,\u001b[0m \u001b[0mcopy\u001b[0m\u001b[0;34m=\u001b[0m\u001b[0mFalse\u001b[0m\u001b[0;34m,\u001b[0m \u001b[0morder\u001b[0m\u001b[0;34m=\u001b[0m\u001b[0morder\u001b[0m\u001b[0;34m)\u001b[0m\u001b[0;34m\u001b[0m\u001b[0m\n\u001b[0m\u001b[1;32m    502\u001b[0m \u001b[0;34m\u001b[0m\u001b[0m\n\u001b[1;32m    503\u001b[0m \u001b[0;34m\u001b[0m\u001b[0m\n",
      "\u001b[0;31mValueError\u001b[0m: could not convert string to float: {'dessert': False, 'latenight': False, 'lunch': False, 'dinner': True, 'breakfast': False, 'brunch': False}"
     ]
    }
   ],
   "source": [
    "pca.fit(biz_df)"
   ]
  },
  {
   "cell_type": "code",
   "execution_count": 29,
   "metadata": {
    "colab": {},
    "colab_type": "code",
    "id": "3xGqEKyAjzUx",
    "outputId": "fc149bb2-a726-47d5-cc26-5444c85d77b1"
   },
   "outputs": [
    {
     "data": {
      "text/plain": [
       "(12058, 59)"
      ]
     },
     "execution_count": 29,
     "metadata": {},
     "output_type": "execute_result"
    }
   ],
   "source": [
    "biz_df.shape"
   ]
  },
  {
   "cell_type": "code",
   "execution_count": 30,
   "metadata": {
    "colab": {},
    "colab_type": "code",
    "id": "_xt-tdDbjzU2"
   },
   "outputs": [
    {
     "ename": "NotFittedError",
     "evalue": "This PCA instance is not fitted yet. Call 'fit' with appropriate arguments before using this method.",
     "output_type": "error",
     "traceback": [
      "\u001b[0;31m---------------------------------------------------------------------------\u001b[0m",
      "\u001b[0;31mNotFittedError\u001b[0m                            Traceback (most recent call last)",
      "\u001b[0;32m<ipython-input-30-18c5e345c0d8>\u001b[0m in \u001b[0;36m<module>\u001b[0;34m()\u001b[0m\n\u001b[0;32m----> 1\u001b[0;31m \u001b[0mprincipal_arr_biz\u001b[0m \u001b[0;34m=\u001b[0m \u001b[0mpca\u001b[0m\u001b[0;34m.\u001b[0m\u001b[0mtransform\u001b[0m\u001b[0;34m(\u001b[0m\u001b[0mbiz_df\u001b[0m\u001b[0;34m)\u001b[0m\u001b[0;34m\u001b[0m\u001b[0m\n\u001b[0m",
      "\u001b[0;32m/Users/Jeannie/anaconda2/lib/python2.7/site-packages/sklearn/decomposition/base.pyc\u001b[0m in \u001b[0;36mtransform\u001b[0;34m(self, X)\u001b[0m\n\u001b[1;32m    124\u001b[0m         \u001b[0;34m>>\u001b[0m\u001b[0;34m>\u001b[0m \u001b[0mipca\u001b[0m\u001b[0;34m.\u001b[0m\u001b[0mtransform\u001b[0m\u001b[0;34m(\u001b[0m\u001b[0mX\u001b[0m\u001b[0;34m)\u001b[0m \u001b[0;31m# doctest: +SKIP\u001b[0m\u001b[0;34m\u001b[0m\u001b[0m\n\u001b[1;32m    125\u001b[0m         \"\"\"\n\u001b[0;32m--> 126\u001b[0;31m         \u001b[0mcheck_is_fitted\u001b[0m\u001b[0;34m(\u001b[0m\u001b[0mself\u001b[0m\u001b[0;34m,\u001b[0m \u001b[0;34m[\u001b[0m\u001b[0;34m'mean_'\u001b[0m\u001b[0;34m,\u001b[0m \u001b[0;34m'components_'\u001b[0m\u001b[0;34m]\u001b[0m\u001b[0;34m,\u001b[0m \u001b[0mall_or_any\u001b[0m\u001b[0;34m=\u001b[0m\u001b[0mall\u001b[0m\u001b[0;34m)\u001b[0m\u001b[0;34m\u001b[0m\u001b[0m\n\u001b[0m\u001b[1;32m    127\u001b[0m \u001b[0;34m\u001b[0m\u001b[0m\n\u001b[1;32m    128\u001b[0m         \u001b[0mX\u001b[0m \u001b[0;34m=\u001b[0m \u001b[0mcheck_array\u001b[0m\u001b[0;34m(\u001b[0m\u001b[0mX\u001b[0m\u001b[0;34m)\u001b[0m\u001b[0;34m\u001b[0m\u001b[0m\n",
      "\u001b[0;32m/Users/Jeannie/anaconda2/lib/python2.7/site-packages/sklearn/utils/validation.pyc\u001b[0m in \u001b[0;36mcheck_is_fitted\u001b[0;34m(estimator, attributes, msg, all_or_any)\u001b[0m\n\u001b[1;32m    949\u001b[0m \u001b[0;34m\u001b[0m\u001b[0m\n\u001b[1;32m    950\u001b[0m     \u001b[0;32mif\u001b[0m \u001b[0;32mnot\u001b[0m \u001b[0mall_or_any\u001b[0m\u001b[0;34m(\u001b[0m\u001b[0;34m[\u001b[0m\u001b[0mhasattr\u001b[0m\u001b[0;34m(\u001b[0m\u001b[0mestimator\u001b[0m\u001b[0;34m,\u001b[0m \u001b[0mattr\u001b[0m\u001b[0;34m)\u001b[0m \u001b[0;32mfor\u001b[0m \u001b[0mattr\u001b[0m \u001b[0;32min\u001b[0m \u001b[0mattributes\u001b[0m\u001b[0;34m]\u001b[0m\u001b[0;34m)\u001b[0m\u001b[0;34m:\u001b[0m\u001b[0;34m\u001b[0m\u001b[0m\n\u001b[0;32m--> 951\u001b[0;31m         \u001b[0;32mraise\u001b[0m \u001b[0mNotFittedError\u001b[0m\u001b[0;34m(\u001b[0m\u001b[0mmsg\u001b[0m \u001b[0;34m%\u001b[0m \u001b[0;34m{\u001b[0m\u001b[0;34m'name'\u001b[0m\u001b[0;34m:\u001b[0m \u001b[0mtype\u001b[0m\u001b[0;34m(\u001b[0m\u001b[0mestimator\u001b[0m\u001b[0;34m)\u001b[0m\u001b[0;34m.\u001b[0m\u001b[0m__name__\u001b[0m\u001b[0;34m}\u001b[0m\u001b[0;34m)\u001b[0m\u001b[0;34m\u001b[0m\u001b[0m\n\u001b[0m\u001b[1;32m    952\u001b[0m \u001b[0;34m\u001b[0m\u001b[0m\n\u001b[1;32m    953\u001b[0m \u001b[0;34m\u001b[0m\u001b[0m\n",
      "\u001b[0;31mNotFittedError\u001b[0m: This PCA instance is not fitted yet. Call 'fit' with appropriate arguments before using this method."
     ]
    }
   ],
   "source": [
    "principal_arr_biz = pca.transform(biz_df)"
   ]
  },
  {
   "cell_type": "code",
   "execution_count": 26,
   "metadata": {
    "colab": {},
    "colab_type": "code",
    "id": "Va2TQeSFjzU5",
    "outputId": "04d12c85-1814-4144-9c22-1a4c2c2635a3"
   },
   "outputs": [
    {
     "ename": "NameError",
     "evalue": "name 'principal_arr_biz' is not defined",
     "output_type": "error",
     "traceback": [
      "\u001b[0;31m---------------------------------------------------------------------------\u001b[0m",
      "\u001b[0;31mNameError\u001b[0m                                 Traceback (most recent call last)",
      "\u001b[0;32m<ipython-input-26-1cd6bb9245b3>\u001b[0m in \u001b[0;36m<module>\u001b[0;34m()\u001b[0m\n\u001b[0;32m----> 1\u001b[0;31m \u001b[0mprincipal_arr_biz\u001b[0m\u001b[0;34m.\u001b[0m\u001b[0mshape\u001b[0m\u001b[0;34m\u001b[0m\u001b[0m\n\u001b[0m",
      "\u001b[0;31mNameError\u001b[0m: name 'principal_arr_biz' is not defined"
     ]
    }
   ],
   "source": [
    "principal_arr_biz.shape"
   ]
  },
  {
   "cell_type": "code",
   "execution_count": 0,
   "metadata": {
    "colab": {},
    "colab_type": "code",
    "id": "ZvAvCC50jzU-"
   },
   "outputs": [],
   "source": [
    "principal_df_biz = pd.DataFrame(data = principal_arr_biz\n",
    "             , columns = list(range(N_COMPONENETS_BIZ)))"
   ]
  },
  {
   "cell_type": "code",
   "execution_count": 0,
   "metadata": {
    "colab": {},
    "colab_type": "code",
    "id": "16N2cr8ZjzVB"
   },
   "outputs": [],
   "source": [
    "extra_df = init_biz_df[['business_id','categories']]"
   ]
  },
  {
   "cell_type": "code",
   "execution_count": 0,
   "metadata": {
    "colab": {},
    "colab_type": "code",
    "id": "1-rS9fTPjzVG"
   },
   "outputs": [],
   "source": [
    "final_biz_df = pd.concat([principal_df_biz,extra_df],axis=1)"
   ]
  },
  {
   "cell_type": "code",
   "execution_count": 0,
   "metadata": {
    "colab": {},
    "colab_type": "code",
    "id": "LXpSK55gjzVN",
    "outputId": "fd5d5389-d413-4b83-9547-ddb767667d76"
   },
   "outputs": [
    {
     "data": {
      "text/html": [
       "<div>\n",
       "<style>\n",
       "    .dataframe thead tr:only-child th {\n",
       "        text-align: right;\n",
       "    }\n",
       "\n",
       "    .dataframe thead th {\n",
       "        text-align: left;\n",
       "    }\n",
       "\n",
       "    .dataframe tbody tr th {\n",
       "        vertical-align: top;\n",
       "    }\n",
       "</style>\n",
       "<table border=\"1\" class=\"dataframe\">\n",
       "  <thead>\n",
       "    <tr style=\"text-align: right;\">\n",
       "      <th></th>\n",
       "      <th>0</th>\n",
       "      <th>1</th>\n",
       "      <th>2</th>\n",
       "      <th>3</th>\n",
       "      <th>business_id</th>\n",
       "      <th>categories</th>\n",
       "    </tr>\n",
       "  </thead>\n",
       "  <tbody>\n",
       "    <tr>\n",
       "      <th>0</th>\n",
       "      <td>-120.933045</td>\n",
       "      <td>7.218200</td>\n",
       "      <td>-7.411679</td>\n",
       "      <td>2.219183</td>\n",
       "      <td>KuxDPl6UYNLxFChPm0_MNw</td>\n",
       "      <td>40, 227, 575</td>\n",
       "    </tr>\n",
       "    <tr>\n",
       "      <th>1</th>\n",
       "      <td>10.052553</td>\n",
       "      <td>-7.724918</td>\n",
       "      <td>-1.568249</td>\n",
       "      <td>-3.126359</td>\n",
       "      <td>6SAfQKe2oM5g_EtcYXyAMg</td>\n",
       "      <td>669, 685, 146, 590, 268, 738, 575</td>\n",
       "    </tr>\n",
       "    <tr>\n",
       "      <th>2</th>\n",
       "      <td>-164.943008</td>\n",
       "      <td>3.303678</td>\n",
       "      <td>-0.545944</td>\n",
       "      <td>-3.346414</td>\n",
       "      <td>upB0RQl-l529IVwgOpwOQQ</td>\n",
       "      <td>268, 575, 669, 239, 5</td>\n",
       "    </tr>\n",
       "    <tr>\n",
       "      <th>3</th>\n",
       "      <td>-24.952295</td>\n",
       "      <td>-7.730073</td>\n",
       "      <td>-2.517198</td>\n",
       "      <td>-5.044799</td>\n",
       "      <td>TulmRC5V0--dnXYd_GOSvA</td>\n",
       "      <td>378, 405, 477, 418, 5, 467, 575</td>\n",
       "    </tr>\n",
       "    <tr>\n",
       "      <th>4</th>\n",
       "      <td>-36.947083</td>\n",
       "      <td>-7.687416</td>\n",
       "      <td>-1.537970</td>\n",
       "      <td>-2.994772</td>\n",
       "      <td>yqYtY3-Po4OVPafA9Z-Xyw</td>\n",
       "      <td>775, 248, 595, 709, 409, 575</td>\n",
       "    </tr>\n",
       "  </tbody>\n",
       "</table>\n",
       "</div>"
      ],
      "text/plain": [
       "            0         1         2         3             business_id  \\\n",
       "0 -120.933045  7.218200 -7.411679  2.219183  KuxDPl6UYNLxFChPm0_MNw   \n",
       "1   10.052553 -7.724918 -1.568249 -3.126359  6SAfQKe2oM5g_EtcYXyAMg   \n",
       "2 -164.943008  3.303678 -0.545944 -3.346414  upB0RQl-l529IVwgOpwOQQ   \n",
       "3  -24.952295 -7.730073 -2.517198 -5.044799  TulmRC5V0--dnXYd_GOSvA   \n",
       "4  -36.947083 -7.687416 -1.537970 -2.994772  yqYtY3-Po4OVPafA9Z-Xyw   \n",
       "\n",
       "                          categories  \n",
       "0                       40, 227, 575  \n",
       "1  669, 685, 146, 590, 268, 738, 575  \n",
       "2              268, 575, 669, 239, 5  \n",
       "3    378, 405, 477, 418, 5, 467, 575  \n",
       "4       775, 248, 595, 709, 409, 575  "
      ]
     },
     "execution_count": 300,
     "metadata": {
      "tags": []
     },
     "output_type": "execute_result"
    }
   ],
   "source": [
    "final_biz_df.head()"
   ]
  },
  {
   "cell_type": "code",
   "execution_count": 0,
   "metadata": {
    "colab": {},
    "colab_type": "code",
    "id": "AgzAfGgijzVV"
   },
   "outputs": [],
   "source": [
    "#==== USERS DATAFRAME ===="
   ]
  },
  {
   "cell_type": "code",
   "execution_count": 0,
   "metadata": {
    "colab": {},
    "colab_type": "code",
    "id": "RYYc2JHujzVY"
   },
   "outputs": [],
   "source": [
    "init_users_df = getDataframe('users2.csv')"
   ]
  },
  {
   "cell_type": "code",
   "execution_count": 0,
   "metadata": {
    "colab": {},
    "colab_type": "code",
    "id": "DKgSwiJcjzVb",
    "outputId": "5726a875-4a22-40a6-fc5c-c810593770f5"
   },
   "outputs": [
    {
     "data": {
      "text/plain": [
       "Index(['average_stars', 'cool', 'elite', 'fans', 'funny', 'review_count',\n",
       "       'useful', 'user_id', 'yelping_since'],\n",
       "      dtype='object')"
      ]
     },
     "execution_count": 303,
     "metadata": {
      "tags": []
     },
     "output_type": "execute_result"
    }
   ],
   "source": [
    "init_users_df.columns"
   ]
  },
  {
   "cell_type": "code",
   "execution_count": 0,
   "metadata": {
    "colab": {},
    "colab_type": "code",
    "id": "FQr4DRkmjzVg"
   },
   "outputs": [],
   "source": [
    "users_df = init_users_df.drop(['user_id',], axis=1)"
   ]
  },
  {
   "cell_type": "code",
   "execution_count": 0,
   "metadata": {
    "colab": {},
    "colab_type": "code",
    "id": "XVUasvbYjzVl",
    "outputId": "4d7cf529-0ef8-40c4-e6c5-fa436ce1bc42"
   },
   "outputs": [
    {
     "data": {
      "text/plain": [
       "average_stars    True\n",
       "cool             True\n",
       "elite            True\n",
       "fans             True\n",
       "funny            True\n",
       "review_count     True\n",
       "useful           True\n",
       "yelping_since    True\n",
       "dtype: bool"
      ]
     },
     "execution_count": 305,
     "metadata": {
      "tags": []
     },
     "output_type": "execute_result"
    }
   ],
   "source": [
    "np.isfinite(users_df).all()"
   ]
  },
  {
   "cell_type": "code",
   "execution_count": 0,
   "metadata": {
    "colab": {},
    "colab_type": "code",
    "id": "ICrL7PqejzVq"
   },
   "outputs": [],
   "source": [
    "pca = PCA(n_components=N_COMPONENTS_USERS)"
   ]
  },
  {
   "cell_type": "code",
   "execution_count": 0,
   "metadata": {
    "colab": {},
    "colab_type": "code",
    "id": "I828mmu3jzVs",
    "outputId": "ed3935be-edd6-4d7a-95a1-d7daeac48d3f"
   },
   "outputs": [
    {
     "data": {
      "text/plain": [
       "PCA(copy=True, iterated_power='auto', n_components=4, random_state=None,\n",
       "  svd_solver='auto', tol=0.0, whiten=False)"
      ]
     },
     "execution_count": 307,
     "metadata": {
      "tags": []
     },
     "output_type": "execute_result"
    }
   ],
   "source": [
    "pca.fit(users_df)"
   ]
  },
  {
   "cell_type": "code",
   "execution_count": 0,
   "metadata": {
    "colab": {},
    "colab_type": "code",
    "id": "UPF6OpwRjzVw"
   },
   "outputs": [],
   "source": [
    "principal_arr_users = pca.transform(users_df)"
   ]
  },
  {
   "cell_type": "code",
   "execution_count": 0,
   "metadata": {
    "colab": {},
    "colab_type": "code",
    "id": "cozDavopjzVz",
    "outputId": "974ffae5-e1e0-40af-c17d-aa5681a59ae7"
   },
   "outputs": [
    {
     "data": {
      "text/plain": [
       "(41720, 4)"
      ]
     },
     "execution_count": 309,
     "metadata": {
      "tags": []
     },
     "output_type": "execute_result"
    }
   ],
   "source": [
    "principal_arr_users.shape"
   ]
  },
  {
   "cell_type": "code",
   "execution_count": 0,
   "metadata": {
    "colab": {},
    "colab_type": "code",
    "id": "_6gFEEtMjzV4"
   },
   "outputs": [],
   "source": [
    "principal_df_users = pd.DataFrame(data = principal_arr_users\n",
    "             , columns = list(range(N_COMPONENTS_USERS)))"
   ]
  },
  {
   "cell_type": "code",
   "execution_count": 0,
   "metadata": {
    "colab": {},
    "colab_type": "code",
    "id": "eFYFQWprjzV7"
   },
   "outputs": [],
   "source": [
    "extra_df = init_users_df[['user_id']]"
   ]
  },
  {
   "cell_type": "code",
   "execution_count": 0,
   "metadata": {
    "colab": {},
    "colab_type": "code",
    "id": "MSSZuIFzjzV_"
   },
   "outputs": [],
   "source": [
    "final_users_df = pd.concat([principal_df_users,extra_df],axis=1)"
   ]
  },
  {
   "cell_type": "code",
   "execution_count": 0,
   "metadata": {
    "colab": {},
    "colab_type": "code",
    "id": "_p_uyjp4jzWD",
    "outputId": "e1954a43-66e1-40b8-8cd4-b7eb539a4ac3"
   },
   "outputs": [
    {
     "data": {
      "text/html": [
       "<div>\n",
       "<style>\n",
       "    .dataframe thead tr:only-child th {\n",
       "        text-align: right;\n",
       "    }\n",
       "\n",
       "    .dataframe thead th {\n",
       "        text-align: left;\n",
       "    }\n",
       "\n",
       "    .dataframe tbody tr th {\n",
       "        vertical-align: top;\n",
       "    }\n",
       "</style>\n",
       "<table border=\"1\" class=\"dataframe\">\n",
       "  <thead>\n",
       "    <tr style=\"text-align: right;\">\n",
       "      <th></th>\n",
       "      <th>0</th>\n",
       "      <th>1</th>\n",
       "      <th>2</th>\n",
       "      <th>3</th>\n",
       "      <th>user_id</th>\n",
       "    </tr>\n",
       "  </thead>\n",
       "  <tbody>\n",
       "    <tr>\n",
       "      <th>0</th>\n",
       "      <td>-54.754260</td>\n",
       "      <td>-6.769188</td>\n",
       "      <td>0.030095</td>\n",
       "      <td>0.883283</td>\n",
       "      <td>UxfpKHGO2dfQCdS9xLLJow</td>\n",
       "    </tr>\n",
       "    <tr>\n",
       "      <th>1</th>\n",
       "      <td>-55.883829</td>\n",
       "      <td>-8.421429</td>\n",
       "      <td>0.061335</td>\n",
       "      <td>0.774755</td>\n",
       "      <td>Kr5NDQFPPB_01-5CDmSqVg</td>\n",
       "    </tr>\n",
       "    <tr>\n",
       "      <th>2</th>\n",
       "      <td>-52.500141</td>\n",
       "      <td>-3.464954</td>\n",
       "      <td>0.024550</td>\n",
       "      <td>0.632955</td>\n",
       "      <td>wfoeMtriLwZsdRzcxNTaFA</td>\n",
       "    </tr>\n",
       "    <tr>\n",
       "      <th>3</th>\n",
       "      <td>-55.882956</td>\n",
       "      <td>-8.421398</td>\n",
       "      <td>0.057195</td>\n",
       "      <td>-0.245081</td>\n",
       "      <td>aXb0kCIsIbPEEUSGomrrmA</td>\n",
       "    </tr>\n",
       "    <tr>\n",
       "      <th>4</th>\n",
       "      <td>-57.574078</td>\n",
       "      <td>-10.899522</td>\n",
       "      <td>0.075850</td>\n",
       "      <td>-0.236266</td>\n",
       "      <td>sLrX2KGu3lc_JczAnsg0_Q</td>\n",
       "    </tr>\n",
       "  </tbody>\n",
       "</table>\n",
       "</div>"
      ],
      "text/plain": [
       "           0          1         2         3                 user_id\n",
       "0 -54.754260  -6.769188  0.030095  0.883283  UxfpKHGO2dfQCdS9xLLJow\n",
       "1 -55.883829  -8.421429  0.061335  0.774755  Kr5NDQFPPB_01-5CDmSqVg\n",
       "2 -52.500141  -3.464954  0.024550  0.632955  wfoeMtriLwZsdRzcxNTaFA\n",
       "3 -55.882956  -8.421398  0.057195 -0.245081  aXb0kCIsIbPEEUSGomrrmA\n",
       "4 -57.574078 -10.899522  0.075850 -0.236266  sLrX2KGu3lc_JczAnsg0_Q"
      ]
     },
     "execution_count": 314,
     "metadata": {
      "tags": []
     },
     "output_type": "execute_result"
    }
   ],
   "source": [
    "final_users_df.head()"
   ]
  },
  {
   "cell_type": "code",
   "execution_count": 0,
   "metadata": {
    "colab": {},
    "colab_type": "code",
    "id": "DjmEb1ozjzWN"
   },
   "outputs": [],
   "source": [
    "#==== NOW MERGING DATAFRAMES ===="
   ]
  },
  {
   "cell_type": "code",
   "execution_count": 0,
   "metadata": {
    "colab": {},
    "colab_type": "code",
    "id": "GsMYbgKhjzWQ"
   },
   "outputs": [],
   "source": [
    "business_df = final_biz_df\n",
    "users_df = final_users_df"
   ]
  },
  {
   "cell_type": "code",
   "execution_count": 0,
   "metadata": {
    "colab": {},
    "colab_type": "code",
    "id": "h5MDBfISjzWT"
   },
   "outputs": [],
   "source": [
    "left_col_names = business_df.columns.values\n",
    "left_df = pd.DataFrame(columns=left_col_names)"
   ]
  },
  {
   "cell_type": "code",
   "execution_count": 0,
   "metadata": {
    "colab": {},
    "colab_type": "code",
    "id": "JJx5EYIujzWV"
   },
   "outputs": [],
   "source": [
    "right_col_names = users_df.columns.values\n",
    "right_df = pd.DataFrame(columns=right_col_names)"
   ]
  },
  {
   "cell_type": "code",
   "execution_count": 0,
   "metadata": {
    "colab": {},
    "colab_type": "code",
    "id": "SOLKnQ8_jzWY"
   },
   "outputs": [],
   "source": [
    "index=0;\n",
    "# for row in train_reviews_df.itertuples(index=True, name='Pandas'):\n",
    "for row in train_df.itertuples(index=True, name='Pandas'):\n",
    "    left_df = left_df.append(business_df.loc[business_df['business_id'] == getattr(row, \"business_id\")])\n",
    "    right_df = right_df.append(users_df.loc[users_df['user_id'] == getattr(row, \"user_id\")])\n",
    "    if index%1000 == 0:\n",
    "        print(\"Completed\",str(index))\n",
    "    index+=1\n",
    "print(\"Done\")"
   ]
  }
 ],
 "metadata": {
  "colab": {
   "name": "pca.ipynb",
   "provenance": [],
   "version": "0.3.2"
  },
  "kernelspec": {
   "display_name": "Python 2",
   "language": "python",
   "name": "python2"
  },
  "language_info": {
   "codemirror_mode": {
    "name": "ipython",
    "version": 2
   },
   "file_extension": ".py",
   "mimetype": "text/x-python",
   "name": "python",
   "nbconvert_exporter": "python",
   "pygments_lexer": "ipython2",
   "version": "2.7.15"
  }
 },
 "nbformat": 4,
 "nbformat_minor": 1
}

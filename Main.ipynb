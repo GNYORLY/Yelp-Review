{
 "cells": [
  {
   "cell_type": "code",
   "execution_count": 23,
   "metadata": {
    "colab": {},
    "colab_type": "code",
    "id": "dUDPHNVeO0MQ"
   },
   "outputs": [],
   "source": [
    "import pandas as pd\n",
    "import numpy as np\n",
    "from pprint import pprint\n",
    "import sys\n",
    "import math"
   ]
  },
  {
   "cell_type": "code",
   "execution_count": 24,
   "metadata": {
    "colab": {},
    "colab_type": "code",
    "id": "v-fasEC4O0MW"
   },
   "outputs": [],
   "source": [
    "# Reads the data from CSV files, each attribute column can be obtained via its name, e.g., y = data['y']\n",
    "def getDataframe(filePath):\n",
    "    data = pd.read_csv(filePath)\n",
    "    return data"
   ]
  },
  {
   "cell_type": "code",
   "execution_count": 25,
   "metadata": {
    "colab": {},
    "colab_type": "code",
    "id": "hHMnLQ-dO0Ma"
   },
   "outputs": [],
   "source": [
    "business_df = getDataframe('business.csv')\n",
    "users_df = getDataframe('users.csv')\n",
    "# train_reviews_df = getDataframe('train_reviews.csv')\n",
    "# test_df = getDataframe('test_queries.csv')"
   ]
  },
  {
   "cell_type": "code",
   "execution_count": 26,
   "metadata": {
    "colab": {},
    "colab_type": "code",
    "id": "sZUyCN2xO0Me"
   },
   "outputs": [],
   "source": [
    "# === NOW DROP STUFF FROM TRAIN_REVIEWS ==="
   ]
  },
  {
   "cell_type": "code",
   "execution_count": 27,
   "metadata": {
    "colab": {},
    "colab_type": "code",
    "id": "-F68gCjUO0Mh"
   },
   "outputs": [],
   "source": [
    "# get features\n",
    "# train_reviews_columns = train_reviews_df.columns.values\n",
    "# test_columns = test_df.columns.values"
   ]
  },
  {
   "cell_type": "code",
   "execution_count": 28,
   "metadata": {
    "colab": {},
    "colab_type": "code",
    "id": "uivOxgT6O0Mk"
   },
   "outputs": [],
   "source": [
    "# train_reviews_columns\n",
    "# test_columns"
   ]
  },
  {
   "cell_type": "code",
   "execution_count": 29,
   "metadata": {
    "colab": {},
    "colab_type": "code",
    "id": "p9bJ686IO0Mn"
   },
   "outputs": [],
   "source": [
    "# indexes to delete from train_reviews\n",
    "# indexes_to_delete = [0,5,8]"
   ]
  },
  {
   "cell_type": "code",
   "execution_count": 30,
   "metadata": {
    "colab": {},
    "colab_type": "code",
    "id": "ID7ntiFRO0Mq"
   },
   "outputs": [],
   "source": [
    "# delete the indexes\n",
    "# columns_to_delete = np.delete(train_reviews_columns,indexes_to_delete)"
   ]
  },
  {
   "cell_type": "code",
   "execution_count": 31,
   "metadata": {
    "colab": {},
    "colab_type": "code",
    "id": "RzA6YkKlO0Mu"
   },
   "outputs": [],
   "source": [
    "# train_reviews_df.drop(columns_to_delete,inplace=True,axis=1)"
   ]
  },
  {
   "cell_type": "code",
   "execution_count": 32,
   "metadata": {
    "colab": {},
    "colab_type": "code",
    "id": "_p5SLrMUO0Mz"
   },
   "outputs": [],
   "source": [
    "# left with business_id, stars, user_id\n",
    "# train_reviews_df.columns"
   ]
  },
  {
   "cell_type": "code",
   "execution_count": 33,
   "metadata": {
    "colab": {},
    "colab_type": "code",
    "id": "jlS7sNDxO0M3"
   },
   "outputs": [],
   "source": [
    "# === NOW DROP STUFF FROM BUSINESS ==="
   ]
  },
  {
   "cell_type": "code",
   "execution_count": 34,
   "metadata": {
    "colab": {},
    "colab_type": "code",
    "id": "qp-HrUfGO0M8",
    "outputId": "d6c6b408-4c83-4d52-874c-8cc94f6f3a99"
   },
   "outputs": [
    {
     "data": {
      "text/plain": [
       "array(['address', 'attributes', 'attributes_AcceptsInsurance',\n",
       "       'attributes_AgesAllowed', 'attributes_Alcohol',\n",
       "       'attributes_Ambience', 'attributes_BYOB', 'attributes_BYOBCorkage',\n",
       "       'attributes_BestNights', 'attributes_BikeParking',\n",
       "       'attributes_BusinessAcceptsBitcoin',\n",
       "       'attributes_BusinessAcceptsCreditCards',\n",
       "       'attributes_BusinessParking', 'attributes_ByAppointmentOnly',\n",
       "       'attributes_Caters', 'attributes_CoatCheck', 'attributes_Corkage',\n",
       "       'attributes_DietaryRestrictions', 'attributes_DogsAllowed',\n",
       "       'attributes_DriveThru', 'attributes_GoodForDancing',\n",
       "       'attributes_GoodForKids', 'attributes_GoodForMeal',\n",
       "       'attributes_HairSpecializesIn', 'attributes_HappyHour',\n",
       "       'attributes_HasTV', 'attributes_Music', 'attributes_NoiseLevel',\n",
       "       'attributes_Open24Hours', 'attributes_OutdoorSeating',\n",
       "       'attributes_RestaurantsAttire',\n",
       "       'attributes_RestaurantsCounterService',\n",
       "       'attributes_RestaurantsDelivery',\n",
       "       'attributes_RestaurantsGoodForGroups',\n",
       "       'attributes_RestaurantsPriceRange2',\n",
       "       'attributes_RestaurantsReservations',\n",
       "       'attributes_RestaurantsTableService',\n",
       "       'attributes_RestaurantsTakeOut', 'attributes_Smoking',\n",
       "       'attributes_WheelchairAccessible', 'attributes_WiFi',\n",
       "       'business_id', 'categories', 'city', 'hours', 'hours_Friday',\n",
       "       'hours_Monday', 'hours_Saturday', 'hours_Sunday', 'hours_Thursday',\n",
       "       'hours_Tuesday', 'hours_Wednesday', 'is_open', 'latitude',\n",
       "       'longitude', 'name', 'neighborhood', 'postal_code', 'review_count',\n",
       "       'stars', 'state'], dtype=object)"
      ]
     },
     "execution_count": 34,
     "metadata": {},
     "output_type": "execute_result"
    }
   ],
   "source": [
    "business_df.columns.values\n",
    "# users_df.columns.values"
   ]
  },
  {
   "cell_type": "code",
   "execution_count": 35,
   "metadata": {
    "colab": {},
    "colab_type": "code",
    "id": "TOz1BuOoO0NC"
   },
   "outputs": [],
   "source": [
    "# indexes to delete from train_reviews\n",
    "elements_to_delete_business = ['address', 'attributes','city', 'hours', 'hours_Friday','hours_Monday', 'hours_Saturday', 'hours_Sunday', 'hours_Thursday','hours_Tuesday', 'hours_Wednesday', 'is_open', 'latitude','longitude', 'name', 'neighborhood', 'postal_code','state']\n",
    "# elements_to_delete_user = ['compliment_cool', 'compliment_cute', 'compliment_funny', 'compliment_hot', 'compliment_list', 'compliment_more', 'compliment_note', 'compliment_photos', 'compliment_plain', 'compliment_profile', 'compliment_writer', 'cool', 'elite', 'fans', 'friends', 'funny', 'name']"
   ]
  },
  {
   "cell_type": "code",
   "execution_count": 36,
   "metadata": {
    "colab": {},
    "colab_type": "code",
    "id": "_HIEabzBO0NG"
   },
   "outputs": [],
   "source": [
    "business_df.drop(elements_to_delete_business, inplace=True, axis=1)\n",
    "# users_df.drop(elements_to_delete_user, inplace=True, axis=1)"
   ]
  },
  {
   "cell_type": "code",
   "execution_count": 37,
   "metadata": {
    "colab": {},
    "colab_type": "code",
    "id": "ZghIoeO4O0NJ",
    "outputId": "f066107a-e481-4ee0-ce52-48abf1066678"
   },
   "outputs": [
    {
     "data": {
      "text/plain": [
       "array(['attributes_AcceptsInsurance', 'attributes_AgesAllowed',\n",
       "       'attributes_Alcohol', 'attributes_Ambience', 'attributes_BYOB',\n",
       "       'attributes_BYOBCorkage', 'attributes_BestNights',\n",
       "       'attributes_BikeParking', 'attributes_BusinessAcceptsBitcoin',\n",
       "       'attributes_BusinessAcceptsCreditCards',\n",
       "       'attributes_BusinessParking', 'attributes_ByAppointmentOnly',\n",
       "       'attributes_Caters', 'attributes_CoatCheck', 'attributes_Corkage',\n",
       "       'attributes_DietaryRestrictions', 'attributes_DogsAllowed',\n",
       "       'attributes_DriveThru', 'attributes_GoodForDancing',\n",
       "       'attributes_GoodForKids', 'attributes_GoodForMeal',\n",
       "       'attributes_HairSpecializesIn', 'attributes_HappyHour',\n",
       "       'attributes_HasTV', 'attributes_Music', 'attributes_NoiseLevel',\n",
       "       'attributes_Open24Hours', 'attributes_OutdoorSeating',\n",
       "       'attributes_RestaurantsAttire',\n",
       "       'attributes_RestaurantsCounterService',\n",
       "       'attributes_RestaurantsDelivery',\n",
       "       'attributes_RestaurantsGoodForGroups',\n",
       "       'attributes_RestaurantsPriceRange2',\n",
       "       'attributes_RestaurantsReservations',\n",
       "       'attributes_RestaurantsTableService',\n",
       "       'attributes_RestaurantsTakeOut', 'attributes_Smoking',\n",
       "       'attributes_WheelchairAccessible', 'attributes_WiFi',\n",
       "       'business_id', 'categories', 'review_count', 'stars'], dtype=object)"
      ]
     },
     "execution_count": 37,
     "metadata": {},
     "output_type": "execute_result"
    }
   ],
   "source": [
    "business_df.columns.values\n",
    "# users_df.columns.values"
   ]
  },
  {
   "cell_type": "code",
   "execution_count": 42,
   "metadata": {
    "colab": {},
    "colab_type": "code",
    "id": "P5TK-NK_O0NO"
   },
   "outputs": [],
   "source": [
    "business_df.to_csv(\"business2.csv\", encoding='utf-8', index=False)"
   ]
  },
  {
   "cell_type": "code",
   "execution_count": 43,
   "metadata": {
    "colab": {},
    "colab_type": "code",
    "id": "YdbGSJZiO0NR"
   },
   "outputs": [],
   "source": [
    "# === NOW COMBINE ==="
   ]
  },
  {
   "cell_type": "code",
   "execution_count": null,
   "metadata": {
    "colab": {},
    "colab_type": "code",
    "id": "1cJB6NpuO0NW",
    "outputId": "e8ecdc30-7602-4923-b2ae-0bae64ec8cd7"
   },
   "outputs": [],
   "source": [
    "business_df.loc[business_df['business_id'] == 'WPCgtEG-bJt0cZtnM-x7yw']"
   ]
  },
  {
   "cell_type": "code",
   "execution_count": 45,
   "metadata": {
    "colab": {},
    "colab_type": "code",
    "id": "Wcj1bmQ6O0Nc"
   },
   "outputs": [],
   "source": [
    "business_df = getDataframe('business4.csv')\n",
    "users_df = getDataframe('users2.csv')\n",
    "train_df = getDataframe('train_reviews2.csv')"
   ]
  },
  {
   "cell_type": "code",
   "execution_count": 46,
   "metadata": {
    "colab": {},
    "colab_type": "code",
    "id": "RpAp1kKCO0Nf"
   },
   "outputs": [],
   "source": [
    "# === LEFT DATAFRAME ==="
   ]
  },
  {
   "cell_type": "code",
   "execution_count": 47,
   "metadata": {
    "colab": {},
    "colab_type": "code",
    "id": "Ut4u4b3DO0Ni"
   },
   "outputs": [],
   "source": [
    "left_col_names = business_df.columns.values"
   ]
  },
  {
   "cell_type": "code",
   "execution_count": 48,
   "metadata": {
    "colab": {},
    "colab_type": "code",
    "id": "6SXq60aUO0Nl"
   },
   "outputs": [],
   "source": [
    "left_df = pd.DataFrame(columns=left_col_names)"
   ]
  },
  {
   "cell_type": "code",
   "execution_count": 49,
   "metadata": {
    "colab": {},
    "colab_type": "code",
    "id": "B2uYI3XHO0No"
   },
   "outputs": [],
   "source": [
    "# === RIGHT DATAFRAME ==="
   ]
  },
  {
   "cell_type": "code",
   "execution_count": 50,
   "metadata": {
    "colab": {},
    "colab_type": "code",
    "id": "ouO3RezmO0Nt"
   },
   "outputs": [],
   "source": [
    "right_col_names = users_df.columns.values"
   ]
  },
  {
   "cell_type": "code",
   "execution_count": 51,
   "metadata": {
    "colab": {},
    "colab_type": "code",
    "id": "RwIlhEQIO0Nv"
   },
   "outputs": [],
   "source": [
    "right_df = pd.DataFrame(columns=right_col_names)"
   ]
  },
  {
   "cell_type": "code",
   "execution_count": null,
   "metadata": {
    "colab": {},
    "colab_type": "code",
    "id": "r6ImI8nPO0Ny",
    "outputId": "6f5dc272-bf8d-4bbf-bc5c-bd55b45079c5",
    "scrolled": true
   },
   "outputs": [],
   "source": [
    "index=0;\n",
    "# for row in train_reviews_df.itertuples(index=True, name='Pandas'):\n",
    "for row in train_df.itertuples(index=True, name='Pandas'):\n",
    "    left_df = left_df.append(business_df.loc[business_df['business_id'] == getattr(row, \"business_id\")])\n",
    "    right_df = right_df.append(users_df.loc[users_df['user_id'] == getattr(row, \"user_id\")])\n",
    "    if index%1000 == 0:\n",
    "        print(\"Completed\",str(index))\n",
    "    index+=1\n",
    "print(\"Done\")"
   ]
  },
  {
   "cell_type": "code",
   "execution_count": 0,
   "metadata": {
    "colab": {},
    "colab_type": "code",
    "id": "nRiJb_61O0N2",
    "outputId": "fd6f9339-04fc-42b8-cd0c-166e685d4312"
   },
   "outputs": [
    {
     "name": "stdout",
     "output_type": "stream",
     "text": [
      "done\n"
     ]
    }
   ],
   "source": [
    "right_df_copy = right_df.copy()\n",
    "left_df_copy = left_df.copy()\n",
    "print(\"done\")"
   ]
  },
  {
   "cell_type": "code",
   "execution_count": 0,
   "metadata": {
    "colab": {},
    "colab_type": "code",
    "id": "gumY13xlO0N9"
   },
   "outputs": [],
   "source": [
    "left_df.reset_index(drop=True, inplace=True)\n",
    "right_df.reset_index(drop=True, inplace=True)"
   ]
  },
  {
   "cell_type": "code",
   "execution_count": 0,
   "metadata": {
    "colab": {},
    "colab_type": "code",
    "id": "tdKWhjFsO0OA"
   },
   "outputs": [],
   "source": [
    "final_df = pd.concat([left_df,right_df],axis=1)"
   ]
  },
  {
   "cell_type": "code",
   "execution_count": 0,
   "metadata": {
    "colab": {},
    "colab_type": "code",
    "id": "mwJJf4GeO0OD",
    "outputId": "d22de3d2-f516-446e-e0f4-f4d8e92fb2ac"
   },
   "outputs": [
    {
     "name": "stdout",
     "output_type": "stream",
     "text": [
      "(150232, 34)\n"
     ]
    },
    {
     "data": {
      "text/html": [
       "<div>\n",
       "<style scoped>\n",
       "    .dataframe tbody tr th:only-of-type {\n",
       "        vertical-align: middle;\n",
       "    }\n",
       "\n",
       "    .dataframe tbody tr th {\n",
       "        vertical-align: top;\n",
       "    }\n",
       "\n",
       "    .dataframe thead th {\n",
       "        text-align: right;\n",
       "    }\n",
       "</style>\n",
       "<table border=\"1\" class=\"dataframe\">\n",
       "  <thead>\n",
       "    <tr style=\"text-align: right;\">\n",
       "      <th></th>\n",
       "      <th>attributes_Alcohol</th>\n",
       "      <th>attributes_Ambience</th>\n",
       "      <th>attributes_BikeParking</th>\n",
       "      <th>attributes_BusinessAcceptsCreditCards</th>\n",
       "      <th>attributes_BusinessParking</th>\n",
       "      <th>attributes_Caters</th>\n",
       "      <th>attributes_GoodForKids</th>\n",
       "      <th>attributes_GoodForMeal</th>\n",
       "      <th>attributes_HappyHour</th>\n",
       "      <th>attributes_HasTV</th>\n",
       "      <th>...</th>\n",
       "      <th>stars</th>\n",
       "      <th>average_stars</th>\n",
       "      <th>cool</th>\n",
       "      <th>elite</th>\n",
       "      <th>fans</th>\n",
       "      <th>funny</th>\n",
       "      <th>review_count</th>\n",
       "      <th>useful</th>\n",
       "      <th>user_id</th>\n",
       "      <th>yelping_since</th>\n",
       "    </tr>\n",
       "  </thead>\n",
       "  <tbody>\n",
       "    <tr>\n",
       "      <th>0</th>\n",
       "      <td>1.00000</td>\n",
       "      <td>24.000000</td>\n",
       "      <td>1.000000</td>\n",
       "      <td>1.0</td>\n",
       "      <td>8.000000</td>\n",
       "      <td>0.415824</td>\n",
       "      <td>0.615193</td>\n",
       "      <td>9.515177</td>\n",
       "      <td>1.000000</td>\n",
       "      <td>1.000000</td>\n",
       "      <td>...</td>\n",
       "      <td>4.0</td>\n",
       "      <td>4.50</td>\n",
       "      <td>-0.055987</td>\n",
       "      <td>1279</td>\n",
       "      <td>-0.145820</td>\n",
       "      <td>-0.054095</td>\n",
       "      <td>4</td>\n",
       "      <td>-0.071331</td>\n",
       "      <td>VDh1vjzpNUJH6HfcjH8g7Q</td>\n",
       "      <td>3.262060</td>\n",
       "    </tr>\n",
       "    <tr>\n",
       "      <th>1</th>\n",
       "      <td>1.00000</td>\n",
       "      <td>1.000000</td>\n",
       "      <td>1.000000</td>\n",
       "      <td>1.0</td>\n",
       "      <td>2.000000</td>\n",
       "      <td>1.000000</td>\n",
       "      <td>1.000000</td>\n",
       "      <td>4.000000</td>\n",
       "      <td>0.151103</td>\n",
       "      <td>0.000000</td>\n",
       "      <td>...</td>\n",
       "      <td>4.0</td>\n",
       "      <td>3.96</td>\n",
       "      <td>1.939651</td>\n",
       "      <td>1279</td>\n",
       "      <td>10.246245</td>\n",
       "      <td>6.753666</td>\n",
       "      <td>2100</td>\n",
       "      <td>4.308641</td>\n",
       "      <td>HnnjIuLrdhLTsRRVrrFIjA</td>\n",
       "      <td>3.149255</td>\n",
       "    </tr>\n",
       "    <tr>\n",
       "      <th>2</th>\n",
       "      <td>0.84135</td>\n",
       "      <td>6.903964</td>\n",
       "      <td>0.729557</td>\n",
       "      <td>1.0</td>\n",
       "      <td>4.983248</td>\n",
       "      <td>0.415824</td>\n",
       "      <td>0.000000</td>\n",
       "      <td>9.515177</td>\n",
       "      <td>0.151103</td>\n",
       "      <td>0.453309</td>\n",
       "      <td>...</td>\n",
       "      <td>2.5</td>\n",
       "      <td>3.96</td>\n",
       "      <td>1.939651</td>\n",
       "      <td>1279</td>\n",
       "      <td>10.246245</td>\n",
       "      <td>6.753666</td>\n",
       "      <td>2100</td>\n",
       "      <td>4.308641</td>\n",
       "      <td>HnnjIuLrdhLTsRRVrrFIjA</td>\n",
       "      <td>3.149255</td>\n",
       "    </tr>\n",
       "    <tr>\n",
       "      <th>3</th>\n",
       "      <td>0.84135</td>\n",
       "      <td>6.903964</td>\n",
       "      <td>0.729557</td>\n",
       "      <td>1.0</td>\n",
       "      <td>4.983248</td>\n",
       "      <td>0.415824</td>\n",
       "      <td>0.615193</td>\n",
       "      <td>9.515177</td>\n",
       "      <td>0.151103</td>\n",
       "      <td>0.453309</td>\n",
       "      <td>...</td>\n",
       "      <td>3.5</td>\n",
       "      <td>3.96</td>\n",
       "      <td>1.939651</td>\n",
       "      <td>1279</td>\n",
       "      <td>10.246245</td>\n",
       "      <td>6.753666</td>\n",
       "      <td>2100</td>\n",
       "      <td>4.308641</td>\n",
       "      <td>HnnjIuLrdhLTsRRVrrFIjA</td>\n",
       "      <td>3.149255</td>\n",
       "    </tr>\n",
       "    <tr>\n",
       "      <th>4</th>\n",
       "      <td>1.00000</td>\n",
       "      <td>78.000000</td>\n",
       "      <td>0.000000</td>\n",
       "      <td>1.0</td>\n",
       "      <td>17.000000</td>\n",
       "      <td>0.000000</td>\n",
       "      <td>0.000000</td>\n",
       "      <td>4.000000</td>\n",
       "      <td>0.151103</td>\n",
       "      <td>0.000000</td>\n",
       "      <td>...</td>\n",
       "      <td>4.5</td>\n",
       "      <td>3.96</td>\n",
       "      <td>1.939651</td>\n",
       "      <td>1279</td>\n",
       "      <td>10.246245</td>\n",
       "      <td>6.753666</td>\n",
       "      <td>2100</td>\n",
       "      <td>4.308641</td>\n",
       "      <td>HnnjIuLrdhLTsRRVrrFIjA</td>\n",
       "      <td>3.149255</td>\n",
       "    </tr>\n",
       "  </tbody>\n",
       "</table>\n",
       "<p>5 rows × 34 columns</p>\n",
       "</div>"
      ],
      "text/plain": [
       "   attributes_Alcohol  attributes_Ambience  attributes_BikeParking  \\\n",
       "0             1.00000            24.000000                1.000000   \n",
       "1             1.00000             1.000000                1.000000   \n",
       "2             0.84135             6.903964                0.729557   \n",
       "3             0.84135             6.903964                0.729557   \n",
       "4             1.00000            78.000000                0.000000   \n",
       "\n",
       "   attributes_BusinessAcceptsCreditCards  attributes_BusinessParking  \\\n",
       "0                                    1.0                    8.000000   \n",
       "1                                    1.0                    2.000000   \n",
       "2                                    1.0                    4.983248   \n",
       "3                                    1.0                    4.983248   \n",
       "4                                    1.0                   17.000000   \n",
       "\n",
       "   attributes_Caters  attributes_GoodForKids  attributes_GoodForMeal  \\\n",
       "0           0.415824                0.615193                9.515177   \n",
       "1           1.000000                1.000000                4.000000   \n",
       "2           0.415824                0.000000                9.515177   \n",
       "3           0.415824                0.615193                9.515177   \n",
       "4           0.000000                0.000000                4.000000   \n",
       "\n",
       "   attributes_HappyHour  attributes_HasTV      ...        stars  \\\n",
       "0              1.000000          1.000000      ...          4.0   \n",
       "1              0.151103          0.000000      ...          4.0   \n",
       "2              0.151103          0.453309      ...          2.5   \n",
       "3              0.151103          0.453309      ...          3.5   \n",
       "4              0.151103          0.000000      ...          4.5   \n",
       "\n",
       "   average_stars      cool  elite       fans     funny  review_count  \\\n",
       "0           4.50 -0.055987   1279  -0.145820 -0.054095             4   \n",
       "1           3.96  1.939651   1279  10.246245  6.753666          2100   \n",
       "2           3.96  1.939651   1279  10.246245  6.753666          2100   \n",
       "3           3.96  1.939651   1279  10.246245  6.753666          2100   \n",
       "4           3.96  1.939651   1279  10.246245  6.753666          2100   \n",
       "\n",
       "     useful                 user_id  yelping_since  \n",
       "0 -0.071331  VDh1vjzpNUJH6HfcjH8g7Q       3.262060  \n",
       "1  4.308641  HnnjIuLrdhLTsRRVrrFIjA       3.149255  \n",
       "2  4.308641  HnnjIuLrdhLTsRRVrrFIjA       3.149255  \n",
       "3  4.308641  HnnjIuLrdhLTsRRVrrFIjA       3.149255  \n",
       "4  4.308641  HnnjIuLrdhLTsRRVrrFIjA       3.149255  \n",
       "\n",
       "[5 rows x 34 columns]"
      ]
     },
     "execution_count": 59,
     "metadata": {
      "tags": []
     },
     "output_type": "execute_result"
    }
   ],
   "source": [
    "print(final_df.shape)\n",
    "final_df.head()"
   ]
  },
  {
   "cell_type": "code",
   "execution_count": 0,
   "metadata": {
    "colab": {},
    "colab_type": "code",
    "id": "SOG-kfeoO0OJ"
   },
   "outputs": [],
   "source": [
    "# final_df.loc[:,'review_cool'] = train_df['cool']\n",
    "# final_df.loc[:,'review_funny'] = train_df['funny']\n",
    "# final_df.loc[:,'review_useful'] = train_df['useful']\n",
    "# final_df.loc[:,'review_id'] = train_df['review_id']\n",
    "# final_df.loc[:,'review_stars'] = train_df['stars']"
   ]
  },
  {
   "cell_type": "code",
   "execution_count": 0,
   "metadata": {
    "colab": {},
    "colab_type": "code",
    "id": "ilfeWHr4O0ON",
    "outputId": "b0e49e8c-ef02-4039-f668-fa3b527ff6a2"
   },
   "outputs": [
    {
     "data": {
      "text/html": [
       "<div>\n",
       "<style scoped>\n",
       "    .dataframe tbody tr th:only-of-type {\n",
       "        vertical-align: middle;\n",
       "    }\n",
       "\n",
       "    .dataframe tbody tr th {\n",
       "        vertical-align: top;\n",
       "    }\n",
       "\n",
       "    .dataframe thead th {\n",
       "        text-align: right;\n",
       "    }\n",
       "</style>\n",
       "<table border=\"1\" class=\"dataframe\">\n",
       "  <thead>\n",
       "    <tr style=\"text-align: right;\">\n",
       "      <th></th>\n",
       "      <th>attributes_Alcohol</th>\n",
       "      <th>attributes_Ambience</th>\n",
       "      <th>attributes_BikeParking</th>\n",
       "      <th>attributes_BusinessAcceptsCreditCards</th>\n",
       "      <th>attributes_BusinessParking</th>\n",
       "      <th>attributes_Caters</th>\n",
       "      <th>attributes_GoodForKids</th>\n",
       "      <th>attributes_GoodForMeal</th>\n",
       "      <th>attributes_HappyHour</th>\n",
       "      <th>attributes_HasTV</th>\n",
       "      <th>...</th>\n",
       "      <th>funny</th>\n",
       "      <th>review_count</th>\n",
       "      <th>useful</th>\n",
       "      <th>user_id</th>\n",
       "      <th>yelping_since</th>\n",
       "      <th>review_cool</th>\n",
       "      <th>review_funny</th>\n",
       "      <th>review_useful</th>\n",
       "      <th>review_stars</th>\n",
       "      <th>review_id</th>\n",
       "    </tr>\n",
       "  </thead>\n",
       "  <tbody>\n",
       "    <tr>\n",
       "      <th>0</th>\n",
       "      <td>1.00000</td>\n",
       "      <td>24.000000</td>\n",
       "      <td>1.000000</td>\n",
       "      <td>1.0</td>\n",
       "      <td>8.000000</td>\n",
       "      <td>0.415824</td>\n",
       "      <td>0.615193</td>\n",
       "      <td>9.515177</td>\n",
       "      <td>1.000000</td>\n",
       "      <td>1.000000</td>\n",
       "      <td>...</td>\n",
       "      <td>-0.054095</td>\n",
       "      <td>4</td>\n",
       "      <td>-0.071331</td>\n",
       "      <td>VDh1vjzpNUJH6HfcjH8g7Q</td>\n",
       "      <td>3.262060</td>\n",
       "      <td>-0.464071</td>\n",
       "      <td>-0.310291</td>\n",
       "      <td>-0.557927</td>\n",
       "      <td>4.0</td>\n",
       "      <td>6sferX8QOJq9g5PONKZH4w</td>\n",
       "    </tr>\n",
       "    <tr>\n",
       "      <th>1</th>\n",
       "      <td>1.00000</td>\n",
       "      <td>1.000000</td>\n",
       "      <td>1.000000</td>\n",
       "      <td>1.0</td>\n",
       "      <td>2.000000</td>\n",
       "      <td>1.000000</td>\n",
       "      <td>1.000000</td>\n",
       "      <td>4.000000</td>\n",
       "      <td>0.151103</td>\n",
       "      <td>0.000000</td>\n",
       "      <td>...</td>\n",
       "      <td>6.753666</td>\n",
       "      <td>2100</td>\n",
       "      <td>4.308641</td>\n",
       "      <td>HnnjIuLrdhLTsRRVrrFIjA</td>\n",
       "      <td>3.149255</td>\n",
       "      <td>0.208435</td>\n",
       "      <td>-0.310291</td>\n",
       "      <td>0.140143</td>\n",
       "      <td>5.0</td>\n",
       "      <td>OybsTOFlklnoFl8ZwRa_AQ</td>\n",
       "    </tr>\n",
       "    <tr>\n",
       "      <th>2</th>\n",
       "      <td>0.84135</td>\n",
       "      <td>6.903964</td>\n",
       "      <td>0.729557</td>\n",
       "      <td>1.0</td>\n",
       "      <td>4.983248</td>\n",
       "      <td>0.415824</td>\n",
       "      <td>0.000000</td>\n",
       "      <td>9.515177</td>\n",
       "      <td>0.151103</td>\n",
       "      <td>0.453309</td>\n",
       "      <td>...</td>\n",
       "      <td>6.753666</td>\n",
       "      <td>2100</td>\n",
       "      <td>4.308641</td>\n",
       "      <td>HnnjIuLrdhLTsRRVrrFIjA</td>\n",
       "      <td>3.149255</td>\n",
       "      <td>-0.464071</td>\n",
       "      <td>-0.310291</td>\n",
       "      <td>0.140143</td>\n",
       "      <td>5.0</td>\n",
       "      <td>fE-Z39pw4Mb5yjr9GihtHQ</td>\n",
       "    </tr>\n",
       "    <tr>\n",
       "      <th>3</th>\n",
       "      <td>0.84135</td>\n",
       "      <td>6.903964</td>\n",
       "      <td>0.729557</td>\n",
       "      <td>1.0</td>\n",
       "      <td>4.983248</td>\n",
       "      <td>0.415824</td>\n",
       "      <td>0.615193</td>\n",
       "      <td>9.515177</td>\n",
       "      <td>0.151103</td>\n",
       "      <td>0.453309</td>\n",
       "      <td>...</td>\n",
       "      <td>6.753666</td>\n",
       "      <td>2100</td>\n",
       "      <td>4.308641</td>\n",
       "      <td>HnnjIuLrdhLTsRRVrrFIjA</td>\n",
       "      <td>3.149255</td>\n",
       "      <td>-0.127818</td>\n",
       "      <td>-0.310291</td>\n",
       "      <td>0.140143</td>\n",
       "      <td>4.0</td>\n",
       "      <td>DuC9JQLQ3yY0kPsonFvk-Q</td>\n",
       "    </tr>\n",
       "    <tr>\n",
       "      <th>4</th>\n",
       "      <td>1.00000</td>\n",
       "      <td>78.000000</td>\n",
       "      <td>0.000000</td>\n",
       "      <td>1.0</td>\n",
       "      <td>17.000000</td>\n",
       "      <td>0.000000</td>\n",
       "      <td>0.000000</td>\n",
       "      <td>4.000000</td>\n",
       "      <td>0.151103</td>\n",
       "      <td>0.000000</td>\n",
       "      <td>...</td>\n",
       "      <td>6.753666</td>\n",
       "      <td>2100</td>\n",
       "      <td>4.308641</td>\n",
       "      <td>HnnjIuLrdhLTsRRVrrFIjA</td>\n",
       "      <td>3.149255</td>\n",
       "      <td>0.544688</td>\n",
       "      <td>-0.310291</td>\n",
       "      <td>0.838214</td>\n",
       "      <td>5.0</td>\n",
       "      <td>cUFJE_U6s6q9_tjDw3nTmA</td>\n",
       "    </tr>\n",
       "  </tbody>\n",
       "</table>\n",
       "<p>5 rows × 39 columns</p>\n",
       "</div>"
      ],
      "text/plain": [
       "   attributes_Alcohol  attributes_Ambience  attributes_BikeParking  \\\n",
       "0             1.00000            24.000000                1.000000   \n",
       "1             1.00000             1.000000                1.000000   \n",
       "2             0.84135             6.903964                0.729557   \n",
       "3             0.84135             6.903964                0.729557   \n",
       "4             1.00000            78.000000                0.000000   \n",
       "\n",
       "   attributes_BusinessAcceptsCreditCards  attributes_BusinessParking  \\\n",
       "0                                    1.0                    8.000000   \n",
       "1                                    1.0                    2.000000   \n",
       "2                                    1.0                    4.983248   \n",
       "3                                    1.0                    4.983248   \n",
       "4                                    1.0                   17.000000   \n",
       "\n",
       "   attributes_Caters  attributes_GoodForKids  attributes_GoodForMeal  \\\n",
       "0           0.415824                0.615193                9.515177   \n",
       "1           1.000000                1.000000                4.000000   \n",
       "2           0.415824                0.000000                9.515177   \n",
       "3           0.415824                0.615193                9.515177   \n",
       "4           0.000000                0.000000                4.000000   \n",
       "\n",
       "   attributes_HappyHour  attributes_HasTV           ...               funny  \\\n",
       "0              1.000000          1.000000           ...           -0.054095   \n",
       "1              0.151103          0.000000           ...            6.753666   \n",
       "2              0.151103          0.453309           ...            6.753666   \n",
       "3              0.151103          0.453309           ...            6.753666   \n",
       "4              0.151103          0.000000           ...            6.753666   \n",
       "\n",
       "   review_count    useful                 user_id  yelping_since  review_cool  \\\n",
       "0             4 -0.071331  VDh1vjzpNUJH6HfcjH8g7Q       3.262060    -0.464071   \n",
       "1          2100  4.308641  HnnjIuLrdhLTsRRVrrFIjA       3.149255     0.208435   \n",
       "2          2100  4.308641  HnnjIuLrdhLTsRRVrrFIjA       3.149255    -0.464071   \n",
       "3          2100  4.308641  HnnjIuLrdhLTsRRVrrFIjA       3.149255    -0.127818   \n",
       "4          2100  4.308641  HnnjIuLrdhLTsRRVrrFIjA       3.149255     0.544688   \n",
       "\n",
       "   review_funny  review_useful  review_stars               review_id  \n",
       "0     -0.310291      -0.557927           4.0  6sferX8QOJq9g5PONKZH4w  \n",
       "1     -0.310291       0.140143           5.0  OybsTOFlklnoFl8ZwRa_AQ  \n",
       "2     -0.310291       0.140143           5.0  fE-Z39pw4Mb5yjr9GihtHQ  \n",
       "3     -0.310291       0.140143           4.0  DuC9JQLQ3yY0kPsonFvk-Q  \n",
       "4     -0.310291       0.838214           5.0  cUFJE_U6s6q9_tjDw3nTmA  \n",
       "\n",
       "[5 rows x 39 columns]"
      ]
     },
     "execution_count": 62,
     "metadata": {
      "tags": []
     },
     "output_type": "execute_result"
    }
   ],
   "source": [
    "final_df.head()"
   ]
  },
  {
   "cell_type": "code",
   "execution_count": 0,
   "metadata": {
    "colab": {},
    "colab_type": "code",
    "id": "Kewo9zOKO0OR"
   },
   "outputs": [],
   "source": [
    "final_df.to_csv(\"train_reviews3.csv\", encoding='utf-8', index=False)"
   ]
  }
 ],
 "metadata": {
  "colab": {
   "name": "cs145_project.ipynb",
   "provenance": [],
   "version": "0.3.2"
  },
  "kernelspec": {
   "display_name": "Python 3",
   "language": "python",
   "name": "python3"
  },
  "language_info": {
   "codemirror_mode": {
    "name": "ipython",
    "version": 3
   },
   "file_extension": ".py",
   "mimetype": "text/x-python",
   "name": "python",
   "nbconvert_exporter": "python",
   "pygments_lexer": "ipython3",
   "version": "3.8.5"
  }
 },
 "nbformat": 4,
 "nbformat_minor": 1
}
